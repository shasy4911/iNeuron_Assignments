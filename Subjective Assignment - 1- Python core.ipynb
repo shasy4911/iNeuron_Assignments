{
 "cells": [
  {
   "cell_type": "markdown",
   "metadata": {},
   "source": [
    "Q1. Write a Python program to get the string from the given string where\n",
    "all the occurrence of its first char has been changed to '$,' except first\n",
    "char itself?\n",
    "\n",
    "    Sample String: 'prospect'\n",
    "    Expected Result : 'pros$ect'\n"
   ]
  },
  {
   "cell_type": "code",
   "execution_count": 1,
   "metadata": {},
   "outputs": [
    {
     "name": "stdout",
     "output_type": "stream",
     "text": [
      "pros$ect\n"
     ]
    }
   ],
   "source": [
    "value = \"prospect\"\n",
    "first_char = value[0]\n",
    "value = value.replace(first_char, \"$\")\n",
    "value = first_char + value[1:]\n",
    "print(value)"
   ]
  },
  {
   "cell_type": "markdown",
   "metadata": {},
   "source": [
    "Q2. Write a Python program to get the single string from the two given\n",
    "strings, and separated by the space and swap the first two characters of\n",
    "each string?\n",
    "\n",
    "    Sample String : 'abc', 'xyz'.\n",
    "    Expected Result: 'xyc abz'"
   ]
  },
  {
   "cell_type": "code",
   "execution_count": 4,
   "metadata": {},
   "outputs": [
    {
     "name": "stdout",
     "output_type": "stream",
     "text": [
      "xyc abz\n"
     ]
    }
   ],
   "source": [
    "str0 = \"abc\"\n",
    "str1 = \"xyz\"\n",
    "temp0 = str0[0:2]\n",
    "temp1 = str1[0:2]\n",
    "final_string = temp1 + str0[2:] + \" \" + temp0 + str1[2:]\n",
    "print(final_string)"
   ]
  },
  {
   "cell_type": "markdown",
   "metadata": {},
   "source": [
    "Q3. Write the Python program to add 'ing' at the end of the given string\n",
    "(length of the string should be at least 3). If given string already ends\n",
    "with 'ing,' then add 'ly' instead. If string length of the given string is less\n",
    "than 3, leave it unchanged?\n",
    "\n",
    "\n",
    "    Sample string: ' abc '\n",
    "    Expected result: ' abcing '\n",
    "    Sample string: ' string '\n",
    "    Expected result: ' stringly '\n"
   ]
  },
  {
   "cell_type": "code",
   "execution_count": 5,
   "metadata": {},
   "outputs": [
    {
     "name": "stdout",
     "output_type": "stream",
     "text": [
      "abc\n",
      "abcing\n"
     ]
    }
   ],
   "source": [
    "word = input()\n",
    "length_word = len(word)\n",
    "\n",
    "if (length_word >= 3) and word.endswith('ing'):\n",
    "    print(word + \"ly\")\n",
    "elif length_word >= 3:\n",
    "    print(word + \"ing\")\n",
    "else:\n",
    "    print(word)"
   ]
  },
  {
   "cell_type": "markdown",
   "metadata": {},
   "source": [
    "Q4. Write the Python program to find the first appearance of the\n",
    "substring 'not' and 'poor' from the given string, if 'not' follows the 'poor',\n",
    "replace the whole 'not'...' poor' substring with 'good'.Return the resulting\n",
    "string.\n",
    "\n",
    "    Sample string: 'The lyrics are not that poor!'\n",
    "    'The lyrics are poor!'\n",
    "    Expected Result: 'The lyrics are good!'\n",
    "    'The lyrics are poor!'"
   ]
  },
  {
   "cell_type": "code",
   "execution_count": 25,
   "metadata": {},
   "outputs": [
    {
     "name": "stdout",
     "output_type": "stream",
     "text": [
      "The lyrics is good!\n",
      "The lyrics is poor!\n"
     ]
    }
   ],
   "source": [
    "s1 = 'The lyrics is not that poor!'\n",
    "s2 = 'The lyrics is poor!'\n",
    "\n",
    "def substring_appearance(str1):\n",
    "    s1 = str1.find('not')\n",
    "    s2 = str1.find('poor')\n",
    "  \n",
    "    if s2 > s1 and s1>0 and s2>0:\n",
    "        str1 = str1.replace(str1[s1:(s2+4)], 'good')\n",
    "        return str1\n",
    "    else:\n",
    "        return str1\n",
    "print(substring_appearance(s1))\n",
    "print(substring_appearance(s2))"
   ]
  },
  {
   "cell_type": "markdown",
   "metadata": {},
   "source": [
    "Q5. Write the Python program to remove the characters which have odd\n",
    "index values of a given string."
   ]
  },
  {
   "cell_type": "code",
   "execution_count": 7,
   "metadata": {},
   "outputs": [
    {
     "name": "stdout",
     "output_type": "stream",
     "text": [
      "iNeuron\n",
      "iern\n"
     ]
    }
   ],
   "source": [
    "word = input()\n",
    "\n",
    "filtered_chars = \"\"\n",
    "for i in range(len(word)):\n",
    "    if i%2 == 0:\n",
    "        filtered_chars = filtered_chars + word[i]\n",
    "print(filtered_chars)"
   ]
  },
  {
   "cell_type": "markdown",
   "metadata": {},
   "source": [
    "Q6. Write the python program to print the following floating numbers up\n",
    "to 2 decimal places?"
   ]
  },
  {
   "cell_type": "code",
   "execution_count": 12,
   "metadata": {},
   "outputs": [
    {
     "name": "stdout",
     "output_type": "stream",
     "text": [
      "0.20\n"
     ]
    }
   ],
   "source": [
    "number = 0.2\n",
    "print(\"{:.2f}\".format(number))"
   ]
  },
  {
   "cell_type": "markdown",
   "metadata": {},
   "source": [
    "Q7. Write the Python program to format a number with a percentage?"
   ]
  },
  {
   "cell_type": "code",
   "execution_count": 15,
   "metadata": {},
   "outputs": [
    {
     "name": "stdout",
     "output_type": "stream",
     "text": [
      "45.00%\n"
     ]
    }
   ],
   "source": [
    "number = 0.45\n",
    "print(\"{:.2%}\".format(number))"
   ]
  },
  {
   "cell_type": "markdown",
   "metadata": {},
   "source": [
    "Q8. Write the Python program to count occurrences of a substring in a\n",
    "String?"
   ]
  },
  {
   "cell_type": "code",
   "execution_count": 8,
   "metadata": {},
   "outputs": [
    {
     "name": "stdout",
     "output_type": "stream",
     "text": [
      "2\n"
     ]
    }
   ],
   "source": [
    "s = \"ineuron\"\n",
    "occurence = s.count(\"n\")\n",
    "\n",
    "print(occurence)"
   ]
  },
  {
   "cell_type": "markdown",
   "metadata": {},
   "source": [
    "Q9. Write the Python program to count repeated characters in a string.\n",
    "\n",
    "    Sample string: ' thequickbrownjumpsoverthelazydog '\n",
    "    \n",
    "    Expected output:\n",
    "    o 3\n",
    "    e 3\n",
    "    u 2\n",
    "    h 2\n",
    "    r 2\n",
    "    t 2"
   ]
  },
  {
   "cell_type": "code",
   "execution_count": 6,
   "metadata": {},
   "outputs": [
    {
     "name": "stdout",
     "output_type": "stream",
     "text": [
      "e 3\n",
      "o 3\n",
      "t 2\n",
      "h 2\n",
      "u 2\n",
      "r 2\n"
     ]
    }
   ],
   "source": [
    "word = \"thequickbrownjumpsoverthelazydog\"\n",
    "\n",
    "d = {}\n",
    "\n",
    "for k in word:\n",
    "    if k in d.keys():\n",
    "        d[k] += 1\n",
    "    else:\n",
    "        d[k] = 1\n",
    "        \n",
    "for k in sorted(d, key=d.get, reverse=True):\n",
    "      if d[k] > 1:\n",
    "            print('%s %d' % (k, d[k]))\n",
    "    "
   ]
  },
  {
   "cell_type": "markdown",
   "metadata": {},
   "source": [
    "Q10. Write the Python program to print the square and cube symbol in\n",
    "the area of a rectangle and volume of a cylinder?\n",
    "\n",
    "    Sample outputThe area of the rectangle is 1256.66cm2\n",
    "    The volume of the cylinder is 1254.725cm3\n"
   ]
  },
  {
   "cell_type": "code",
   "execution_count": 18,
   "metadata": {},
   "outputs": [
    {
     "name": "stdout",
     "output_type": "stream",
     "text": [
      " The area of the rectangle is 1256.66cm²\n",
      " The volume of the rectangle is 1254.725cm³\n"
     ]
    }
   ],
   "source": [
    "area = 1256.66\n",
    "volume = 1254.725\n",
    "\n",
    "print(\" The area of the rectangle is {0:.{1}f}cm\\u00b2\".format(area, 2))\n",
    "\n",
    "print(\" The volume of the rectangle is {0:.{1}f}cm\\u00b3\".format(volume, 3))"
   ]
  },
  {
   "cell_type": "markdown",
   "metadata": {},
   "source": [
    "Q11. Write the Python program to check if a string contains all letters of\n",
    "the alphabet?"
   ]
  },
  {
   "cell_type": "code",
   "execution_count": 18,
   "metadata": {},
   "outputs": [
    {
     "name": "stdout",
     "output_type": "stream",
     "text": [
      "True\n",
      "False\n"
     ]
    }
   ],
   "source": [
    "import string\n",
    "\n",
    "alph = set(string.ascii_lowercase)\n",
    "\n",
    "sen = 'The quick brown fox jumps over the lazy dog'\n",
    "print(set(sen.lower()) >= alph)\n",
    "\n",
    "sen = 'The quick brown fox jumps over the lazy cat'\n",
    "print(set(sen.lower()) >= alph)"
   ]
  },
  {
   "cell_type": "markdown",
   "metadata": {},
   "source": [
    "Q12. Write the Python program to find the second most repeated word\n",
    "in a given string?"
   ]
  },
  {
   "cell_type": "code",
   "execution_count": 15,
   "metadata": {},
   "outputs": [
    {
     "name": "stdout",
     "output_type": "stream",
     "text": [
      "('you', 3)\n"
     ]
    }
   ],
   "source": [
    "sentence = \"Sometimes to understand a word's meaning you need more than a definition. At YourDictionary we try to give you all of the tools you need to really understand what the word means. Seeing the word in a sentence can provide more context and relevance.\"\n",
    "\n",
    "def secondMost_repeated_word(sentence):\n",
    "    d = {}\n",
    "    words = sentence.split()\n",
    "    \n",
    "    for word in words:\n",
    "        if word in d:\n",
    "            d[word] += 1\n",
    "        else:\n",
    "            d[word] = 1\n",
    "    rep_words = sorted(d.items(), key=lambda k: k[1])\n",
    "    return rep_words[-2]\n",
    "\n",
    "print(secondMost_repeated_word(sentence))\n",
    "    "
   ]
  },
  {
   "cell_type": "markdown",
   "metadata": {},
   "source": [
    "Q13. Write the Python program to find the minimum window in the given\n",
    "string, which will contains all the characters of another given\n",
    "strings?\n",
    "\n",
    "    Example 1\n",
    "    Input : string1 = \" PRWSOERIUSFK \"\n",
    "    string2 = \" OSU \"\n",
    "    Output: Minimum window is \"OERIUS\""
   ]
  },
  {
   "cell_type": "code",
   "execution_count": 26,
   "metadata": {},
   "outputs": [
    {
     "name": "stdout",
     "output_type": "stream",
     "text": [
      "OERIUS\n"
     ]
    }
   ],
   "source": [
    "import collections\n",
    "\n",
    "def minimun_window(str1, str2):\n",
    "    result_char, missing_char = collections.Counter(str2), len(str2)\n",
    "    i = p = q = 0\n",
    "    for j, c in enumerate(str1, 1):\n",
    "        missing_char -= result_char[c] > 0\n",
    "        result_char[c] -= 1\n",
    "        if not missing_char:\n",
    "            while i < q and result_char[str1[i]] < 0:\n",
    "                result_char[str1[i]] += 1\n",
    "                i += 1\n",
    "            if not q or j - i <= q - p:\n",
    "                p, q = i, j\n",
    "    return str1[p:q]\n",
    "           \n",
    "str1 = \"PRWSOERIUSFK\"\n",
    "str2 = \"OSU\"\n",
    "#print(\"Original Strings:\\n\",str1,\"\\n\",str2)\n",
    "#print(\"Minimum window:\")\n",
    "print(minimun_window(str1,str2))"
   ]
  },
  {
   "cell_type": "markdown",
   "metadata": {},
   "source": [
    "Q14. Write the Python program to count number of substrings from a\n",
    "given string of lowercase alphabets with exactly k distinct (given)\n",
    "characters?\n",
    "\n",
    "    Input a string (lowercase alphabets): wolf\n",
    "    Input k: 4\n",
    "    Number of substrings with exactly 4 distinct characters: 1"
   ]
  },
  {
   "cell_type": "code",
   "execution_count": 27,
   "metadata": {},
   "outputs": [
    {
     "name": "stdout",
     "output_type": "stream",
     "text": [
      "Input a string (lowercase alphabets):wolf\n",
      "Input k: 4\n",
      "Number of substrings with exactly 4 distinct characters : 1\n"
     ]
    }
   ],
   "source": [
    "def substr_from_dist_chars(str1, k): \n",
    "    str_len = len(str1) \n",
    "    result = 0\n",
    "    ch = [0] * 27\n",
    "\n",
    "    for i in range(0, str_len): \n",
    "        dist_char = 0\n",
    "        ch = [0] * 27\n",
    "\n",
    "        for j in range(i, str_len): \n",
    "            if(ch[ord(str1[j]) - 97] == 0): \n",
    "                dist_char += 1\n",
    "            ch[ord(str1[j]) - 97] += 1\n",
    "            if(dist_char == k): \n",
    "                result += 1\n",
    "            if(dist_char > k): \n",
    "                break\n",
    "    return result \n",
    "\n",
    "str1 = input(\"Input a string (lowercase alphabets):\")\n",
    "k = int(input(\"Input k: \"))\n",
    "print(\"Number of substrings with exactly\", k, \"distinct characters : \", end = \"\") \n",
    "print(substr_from_dist_chars(str1, k))"
   ]
  },
  {
   "cell_type": "markdown",
   "metadata": {},
   "source": [
    "Q15. Write the Python program to count number of substrings with same\n",
    "first and last characters of the given string?\n",
    "\n",
    "    Input a string: abcd\n",
    "    4\n"
   ]
  },
  {
   "cell_type": "code",
   "execution_count": 20,
   "metadata": {},
   "outputs": [
    {
     "name": "stdout",
     "output_type": "stream",
     "text": [
      "Input a string: abcd\n",
      "4\n"
     ]
    }
   ],
   "source": [
    "def number_of_substrings(s): \n",
    "    result = 0\n",
    "    n = len(s) \n",
    "    for i in range(n): \n",
    "        for j in range(i, n): \n",
    "            if (s[i] == s[j]): \n",
    "                result = result + 1\n",
    "    return result \n",
    "\n",
    "s = input(\"Input a string: \")\n",
    "\n",
    "print(number_of_substrings(s))"
   ]
  },
  {
   "cell_type": "markdown",
   "metadata": {},
   "source": [
    "## Great Job!"
   ]
  }
 ],
 "metadata": {
  "kernelspec": {
   "display_name": "Python 3",
   "language": "python",
   "name": "python3"
  },
  "language_info": {
   "codemirror_mode": {
    "name": "ipython",
    "version": 3
   },
   "file_extension": ".py",
   "mimetype": "text/x-python",
   "name": "python",
   "nbconvert_exporter": "python",
   "pygments_lexer": "ipython3",
   "version": "3.6.8"
  }
 },
 "nbformat": 4,
 "nbformat_minor": 2
}
